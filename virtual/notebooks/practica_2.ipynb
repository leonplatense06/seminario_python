{
 "cells": [
  {
   "cell_type": "code",
   "execution_count": null,
   "metadata": {},
   "outputs": [],
   "source": [
    "#Ejer 1\n",
    "zen_txt = \"\"\"Beautiful is better than ugly.\n",
    "Explicit is better than implicit.\n",
    "Simple is better than complex.\n",
    "Complex is better than complicated.\n",
    "Flat is better than nested.\n",
    "Sparse is better than dense.\n",
    "Readability counts.\n",
    "Special cases aren't special enough to break the rules.\n",
    "Although practicality beats purity.\n",
    "Errors should never pass silently.\n",
    "Unless explicitly silenced.\n",
    "In the face of ambiguity, refuse the temptation to guess.\n",
    "There should be one-- and preferably only one --obvious way to do it.\n",
    "Although that way may not be obvious at first unless you're Dutch.\n",
    "Now is better than never.\n",
    "Although never is often better than *right* now.\n",
    "If the implementation is hard to explain, it's a bad idea.\n",
    "If the implementation is easy to explain, it may be a good idea.\n",
    "Namespaces are one honking great idea -- let's do more of those!\"\"\"\n",
    "\n",
    "zen_txt_separado = zen_txt.split(\"\\n\")\n",
    "for elem in zen_txt_separado:\n",
    "    if (elem.split()[1][0].lower() in 'aeiou'):\n",
    "        print(elem)\n"
   ]
  },
  {
   "cell_type": "code",
   "execution_count": null,
   "metadata": {},
   "outputs": [],
   "source": [
    "#Ejer 2\n",
    "titles = [\n",
    "\"Speedrun de Super Mario en tiempo récord\",\n",
    "\"Charla sobre desarrollo de videojuegos\",\n",
    "\"Jugando al nuevo FPS del momento con amigos\",\n",
    "\"Música en vivo: improvisaciones al piano\"\n",
    "]\n",
    "\n",
    "longest_title = max(titles, key=lambda t:len(t.split()))\n",
    "print(f\"El título más largo es: {longest_title}\")"
   ]
  },
  {
   "cell_type": "code",
   "execution_count": 11,
   "metadata": {},
   "outputs": [
    {
     "name": "stdout",
     "output_type": "stream",
     "text": [
      "['Sigue las instrucciones de los moderadores.']\n"
     ]
    }
   ],
   "source": [
    "#Ejer 3\n",
    "rules = \"\"\"Respeta a los demás. No se permiten insultos ni lenguaje ofensivo.\n",
    "Evita el spam. No publiques enlaces sospechosos o repetitivos.\n",
    "No compartas información personal.\n",
    "Usa los canales adecuados para cada tema.\n",
    "Sigue las instrucciones de los moderadores.\"\"\"\n",
    "\n",
    " # separar las reglas por lineas\n",
    "separate_rules = rules.split(\"\\n\")\n",
    "word = input(\"Ingrese una Palabra para Hacer la Busqueda: \")\n",
    " # Filtrar las reglas que contengan la palabra ingresada por teclado\n",
    "found_rules = list(filter(lambda rule: word.lower() in rule.lower(), separate_rules))\n",
    "print(found_rules)"
   ]
  },
  {
   "cell_type": "code",
   "execution_count": null,
   "metadata": {},
   "outputs": [],
   "source": [
    "#Ejer 4\n",
    "def validUserName(user):\n",
    "    \"\"\"this function checks if the username is valid or not according to the following rules:\n",
    "    1. At least 5 characters long.\n",
    "    2. At least one number.\n",
    "    3. At least one uppercase letter.\n",
    "    4. All characters must be alphanumeric.\"\"\"\n",
    "     # Verificar al menos 5 caracteres\n",
    "    if len(user) < 5:\n",
    "        return False\n",
    "     # Verificar al menos un número\n",
    "    elif not any(elem.isdigit() for elem in user):\n",
    "        return False\n",
    "     # Verificar al menos una mayuscula\n",
    "    elif not any(elem.isupper() for elem in user):\n",
    "        return False\n",
    "     # Verificar que todos los elementos sean alfanumericos\n",
    "    elif not user.isalnum():\n",
    "        return False\n",
    "    else:\n",
    "        return True\n",
    "\n",
    "user = input(\"Ingrese su Nombre de Usuario: \")\n",
    "\n",
    "print(\"Nombre de Usuario Valido.\" if validUserName(user) else \"Nombre de Usuario Invalido.\")"
   ]
  },
  {
   "cell_type": "code",
   "execution_count": null,
   "metadata": {},
   "outputs": [],
   "source": [
    "# Ejer 5\n",
    "def requestValidData():\n",
    "    \"\"\"this function requests a number checks if it is valid.\"\"\"\n",
    "    num = input(\"Ingrese su Tiempo de Reaccion en ms: \")\n",
    "     # Check if num is a number and if it's greater than 0 (short-circuit evaluation)\n",
    "    if ((num.isnumeric()) and (int(num) > 0)):\n",
    "        return int(num)\n",
    "    else:\n",
    "     # if num is not valid, report that, and ask for it again\n",
    "        print(\"Dato Ingresado Invaido.\")\n",
    "        return requestValidData()\n",
    "\n",
    "def reactionTime(num):\n",
    "    \"\"\"this function checks the reaction time and califies it.\"\"\"\n",
    "    if (num < 200):\n",
    "        return(\"Rápido.\")\n",
    "    elif (200 <= num <= 500):\n",
    "        return(\"Normal.\")\n",
    "    else:\n",
    "        return(\"Lento.\")\n",
    "\n",
    "num = requestValidData()\n",
    "print(\"Categoria: \" + reactionTime(num))"
   ]
  },
  {
   "cell_type": "code",
   "execution_count": 1,
   "metadata": {},
   "outputs": [
    {
     "name": "stdout",
     "output_type": "stream",
     "text": [
      "Menciones de 'música': 4\n",
      "Menciones de 'charla': 2\n",
      "Menciones de 'entretenimiento': 1\n"
     ]
    }
   ],
   "source": [
    "# Ejer 6\n",
    "descriptions = [\n",
    " \"Streaming de música en vivo con covers y composiciones\",\n",
    " \"Charla interactiva con la audiencia sobre series y películas\",\n",
    " \"Jugamos a juegos retro y charlamos sobre su historia\",\n",
    " \"Exploramos la mejor música de los 80s y 90s\",\n",
    " \"Programa de entretenimiento con noticias y curiosidades del mundo gamer\",\n",
    " \"Sesión de charla con invitados especiales del mundo del streaming\",\n",
    " \"Música en directo con improvisaciones y peticiones del chat\",\n",
    " \"Un espacio para charlar relajada sobre tecnología y cultura digital\",\n",
    " \"Exploramos el impacto de la música en los videojuegos clásicos\"\n",
    "]\n",
    "\n",
    "def countTimes(word):\n",
    "    \"\"\"this function filters the descriptions that contain a word and counts it.\"\"\"\n",
    "    # Counts the items in a list of descriptions that contain the word\n",
    "    times = len(list(filter(lambda d: word.lower() in d.lower().split(), descriptions)))\n",
    "    return times\n",
    "\n",
    "print(f\"\"\"Menciones de 'música': {countTimes('música')}\n",
    "Menciones de 'charla': {countTimes('charla')}\n",
    "Menciones de 'entretenimiento': {countTimes('entretenimiento')}\"\"\")\n"
   ]
  },
  {
   "cell_type": "code",
   "execution_count": null,
   "metadata": {},
   "outputs": [],
   "source": [
    "# Ejer 6 Alternativa\n",
    "descriptions = [\n",
    " \"Streaming de música en vivo con covers y composiciones\",\n",
    " \"Charla interactiva con la audiencia sobre series y películas\",\n",
    " \"Jugamos a juegos retro y charlamos sobre su historia\",\n",
    " \"Exploramos la mejor música de los 80s y 90s\",\n",
    " \"Programa de entretenimiento con noticias y curiosidades del mundo gamer\",\n",
    " \"Sesión de charla con invitados especiales del mundo del streaming\",\n",
    " \"Música en directo con improvisaciones y peticiones del chat\",\n",
    " \"Un espacio para charlar relajada sobre tecnología y cultura digital\",\n",
    " \"Exploramos el impacto de la música en los videojuegos clásicos\"\n",
    "]\n",
    "\n",
    "def countTimes(word):\n",
    "    \"\"\"this function filters the descriptions that contain a word and counts it.\"\"\"\n",
    "    # Counts the items in a list of descriptions that contain the word\n",
    "    times = len(list(_ for _ in descriptions if word.lower() in _.lower().split()))\n",
    "    # Alternative using list comprehension\n",
    "    return times\n",
    "\n",
    "print(f\"\"\"Menciones de 'música': {countTimes('música')}\n",
    "Menciones de 'charla': {countTimes('charla')}\n",
    "Menciones de 'entretenimiento': {countTimes('entretenimiento')}\"\"\")"
   ]
  },
  {
   "cell_type": "code",
   "execution_count": null,
   "metadata": {},
   "outputs": [],
   "source": [
    "# Ejer 7\n",
    "import random\n",
    "import string\n",
    "\n",
    "def request_valid_user():\n",
    "    \"\"\"this function requests for a valid user name and checks it.\"\"\"\n",
    "    user = input(\"Please, enter your user name (15 characters max): \")\n",
    "    # Check if user is valid\n",
    "    return (user) if (len(user) <= 15) else (request_valid_user())\n",
    "\n",
    "def request_date():\n",
    "    \"\"\"this function requests for the date.\"\"\"\n",
    "    return (input(\"Please, enter the date (yyyy-mm-dd): \"))\n",
    "\n",
    "def random_chars(chars):\n",
    "    \"\"\"this function creates a string of 30 - (number of characters already obtained) to create a code of 30 characters total.\"\"\"\n",
    "    # Generate a random string of 30 characters\n",
    "    return \"\".join(random.choice(string.ascii_letters + string.digits) for _ in range(30 - len(chars)))\n",
    "\n",
    "user = request_valid_user()\n",
    "date = request_date()\n"
   ]
  }
 ],
 "metadata": {
  "kernelspec": {
   "display_name": "venv",
   "language": "python",
   "name": "python3"
  },
  "language_info": {
   "codemirror_mode": {
    "name": "ipython",
    "version": 3
   },
   "file_extension": ".py",
   "mimetype": "text/x-python",
   "name": "python",
   "nbconvert_exporter": "python",
   "pygments_lexer": "ipython3",
   "version": "3.12.9"
  }
 },
 "nbformat": 4,
 "nbformat_minor": 2
}
