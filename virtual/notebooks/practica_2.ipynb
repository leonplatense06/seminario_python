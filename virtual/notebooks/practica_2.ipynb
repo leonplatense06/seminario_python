{
 "cells": [
  {
   "cell_type": "code",
   "execution_count": null,
   "metadata": {},
   "outputs": [],
   "source": [
    "#Ejer 1\n",
    "zen_txt = \"\"\"Beautiful is better than ugly.\n",
    "Explicit is better than implicit.\n",
    "Simple is better than complex.\n",
    "Complex is better than complicated.\n",
    "Flat is better than nested.\n",
    "Sparse is better than dense.\n",
    "Readability counts.\n",
    "Special cases aren't special enough to break the rules.\n",
    "Although practicality beats purity.\n",
    "Errors should never pass silently.\n",
    "Unless explicitly silenced.\n",
    "In the face of ambiguity, refuse the temptation to guess.\n",
    "There should be one-- and preferably only one --obvious way to do it.\n",
    "Although that way may not be obvious at first unless you're Dutch.\n",
    "Now is better than never.\n",
    "Although never is often better than *right* now.\n",
    "If the implementation is hard to explain, it's a bad idea.\n",
    "If the implementation is easy to explain, it may be a good idea.\n",
    "Namespaces are one honking great idea -- let's do more of those!\"\"\"\n",
    "\n",
    "zen_txt_separado = zen_txt.split(\"\\n\")\n",
    "for elem in zen_txt_separado:\n",
    "    if (elem.split()[1][0].lower() in 'aeiou'):\n",
    "        print(elem)\n"
   ]
  },
  {
   "cell_type": "code",
   "execution_count": null,
   "metadata": {},
   "outputs": [],
   "source": [
    "#Ejer 2\n",
    "titles = [\n",
    "\"Speedrun de Super Mario en tiempo récord\",\n",
    "\"Charla sobre desarrollo de videojuegos\",\n",
    "\"Jugando al nuevo FPS del momento con amigos\",\n",
    "\"Música en vivo: improvisaciones al piano\"\n",
    "]\n",
    "\n",
    "longest_title = max(titles, key=lambda t:len(t.split()))\n",
    "print(f\"El título más largo es: {longest_title}\")"
   ]
  },
  {
   "cell_type": "code",
   "execution_count": 11,
   "metadata": {},
   "outputs": [
    {
     "name": "stdout",
     "output_type": "stream",
     "text": [
      "['Sigue las instrucciones de los moderadores.']\n"
     ]
    }
   ],
   "source": [
    "#Ejer 3\n",
    "rules = \"\"\"Respeta a los demás. No se permiten insultos ni lenguaje ofensivo.\n",
    "Evita el spam. No publiques enlaces sospechosos o repetitivos.\n",
    "No compartas información personal.\n",
    "Usa los canales adecuados para cada tema.\n",
    "Sigue las instrucciones de los moderadores.\"\"\"\n",
    "\n",
    " # separar las reglas por lineas\n",
    "separate_rules = rules.split(\"\\n\")\n",
    "word = input(\"Ingrese una Palabra para Hacer la Busqueda: \")\n",
    " # Filtrar las reglas que contengan la palabra ingresada por teclado\n",
    "found_rules = list(filter(lambda rule: word.lower() in rule.lower(), separate_rules))\n",
    "print(found_rules)"
   ]
  },
  {
   "cell_type": "code",
   "execution_count": null,
   "metadata": {},
   "outputs": [],
   "source": [
    "#Ejer 4\n",
    "def validUserName(user):\n",
    "    \"\"\"this function checks if the username is valid or not according to the following rules:\n",
    "    1. At least 5 characters long.\n",
    "    2. At least one number.\n",
    "    3. At least one uppercase letter.\n",
    "    4. All characters must be alphanumeric.\"\"\"\n",
    "     # Verificar al menos 5 caracteres\n",
    "    if len(user) < 5:\n",
    "        return False\n",
    "     # Verificar al menos un número\n",
    "    elif not any(elem.isdigit() for elem in user):\n",
    "        return False\n",
    "     # Verificar al menos una mayuscula\n",
    "    elif not any(elem.isupper() for elem in user):\n",
    "        return False\n",
    "     # Verificar que todos los elementos sean alfanumericos\n",
    "    elif not user.isalnum():\n",
    "        return False\n",
    "    else:\n",
    "        return True\n",
    "\n",
    "user = input(\"Ingrese su Nombre de Usuario: \")\n",
    "\n",
    "print(\"Nombre de Usuario Valido.\" if validUserName(user) else \"Nombre de Usuario Invalido.\")"
   ]
  },
  {
   "cell_type": "code",
   "execution_count": null,
   "metadata": {},
   "outputs": [],
   "source": [
    "# Ejer 5\n",
    "def requestValidData():\n",
    "    \"\"\"this function requests a number checks if it is valid.\"\"\"\n",
    "    num = input(\"Ingrese su Tiempo de Reaccion en ms: \")\n",
    "    if (num.isnumeric()):\n",
    "        return int(num)\n",
    "    else:\n",
    "        print(\"Dato Ingresado Invaido.\")\n",
    "        return requestValidData()"
   ]
  }
 ],
 "metadata": {
  "kernelspec": {
   "display_name": "venv",
   "language": "python",
   "name": "python3"
  },
  "language_info": {
   "codemirror_mode": {
    "name": "ipython",
    "version": 3
   },
   "file_extension": ".py",
   "mimetype": "text/x-python",
   "name": "python",
   "nbconvert_exporter": "python",
   "pygments_lexer": "ipython3",
   "version": "3.12.9"
  }
 },
 "nbformat": 4,
 "nbformat_minor": 2
}
